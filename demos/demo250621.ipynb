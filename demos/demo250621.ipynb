{
 "cells": [
  {
   "cell_type": "code",
   "execution_count": 5,
   "metadata": {},
   "outputs": [],
   "source": [
    "import os\n",
    "os.environ[\"UNIQUE_ID\"] = \"main\"\n",
    "os.environ[\"DEPLOYMENT_TIER\"] = \"dev\""
   ]
  },
  {
   "cell_type": "code",
   "execution_count": 6,
   "metadata": {},
   "outputs": [
    {
     "name": "stdout",
     "output_type": "stream",
     "text": [
      "Feature: Scenarios to test aviation data processing # ../../aviation-data-services/aviation-data-processing-service/service_tests/aviation_data_processing/features/AviationDataProcessing.feature:1\n",
      "\n",
      "  Scenario: MSS files are correctly stored and logged                         # ../../aviation-data-services/aviation-data-processing-service/service_tests/aviation_data_processing/features/AviationDataProcessing.feature:3\n",
      "    Given an icing_mlevs file needs to be processed by icingfilecreatedlambda # ../../aviation-data-services/aviation-data-processing-service/service_tests/aviation_data_processing/features/steps/AviationDataProcessing.py:12\n",
      "    And it has arrived                                                        # ../../aviation-data-services/aviation-data-processing-service/service_tests/aviation_data_processing/features/steps/AviationDataProcessing.py:20\n",
      "    When it is processed for 30 seconds                                       # ../../aviation-data-services/aviation-data-processing-service/service_tests/aviation_data_processing/features/steps/AviationDataProcessing.py:25\n",
      "    Then it is logged with [REPORT]                                           # ../../aviation-data-services/aviation-data-processing-service/service_tests/aviation_data_processing/features/steps/AviationDataProcessing.py:30\n",
      "\n",
      "  Scenario: non MSS files are logged and ignored                          # ../../aviation-data-services/aviation-data-processing-service/service_tests/aviation_data_processing/features/AviationDataProcessing.feature:9\n",
      "    Given an invalid file needs to be processed by icingfilecreatedlambda # ../../aviation-data-services/aviation-data-processing-service/service_tests/aviation_data_processing/features/steps/AviationDataProcessing.py:12\n",
      "    And it has arrived                                                    # ../../aviation-data-services/aviation-data-processing-service/service_tests/aviation_data_processing/features/steps/AviationDataProcessing.py:20\n",
      "    When it is processed for 30 seconds                                   # ../../aviation-data-services/aviation-data-processing-service/service_tests/aviation_data_processing/features/steps/AviationDataProcessing.py:25\n",
      "    Then it is logged with non-icing-file-received                        # ../../aviation-data-services/aviation-data-processing-service/service_tests/aviation_data_processing/features/steps/AviationDataProcessing.py:30\n",
      "\n",
      "1 feature passed, 0 failed, 0 skipped\n",
      "2 scenarios passed, 0 failed, 0 skipped\n",
      "8 steps passed, 0 failed, 0 skipped, 0 undefined\n",
      "Took 1m3.147s\n"
     ]
    },
    {
     "data": {
      "text/plain": [
       "0"
      ]
     },
     "execution_count": 6,
     "metadata": {},
     "output_type": "execute_result"
    }
   ],
   "source": [
    "from behave.__main__ import main as behave_main\n",
    "behave_main([\"C:/git/aviation-data-services/aviation-data-processing-service/service_tests/aviation_data_processing/features\", \"--junit\", \"-D region=eu-west-2\", '-D profile=\"arn:aws:iam::766048587806:role/PipelineAutomationRole\"'])"
   ]
  },
  {
   "cell_type": "code",
   "execution_count": 6,
   "metadata": {},
   "outputs": [
    {
     "data": {
      "text/html": [
       "\n",
       "        <iframe\n",
       "            width=\"1400\"\n",
       "            height=\"600\"\n",
       "            src=\"http://localhost:8080\"\n",
       "            frameborder=\"0\"\n",
       "            allowfullscreen\n",
       "        ></iframe>\n",
       "        "
      ],
      "text/plain": [
       "<IPython.lib.display.IFrame at 0x1e4f2cf0ee0>"
      ]
     },
     "execution_count": 6,
     "metadata": {},
     "output_type": "execute_result"
    }
   ],
   "source": [
    "from IPython.display import IFrame\n",
    "\n",
    "IFrame(src='http://localhost:8080', width=1400, height=600)"
   ]
  },
  {
   "cell_type": "code",
   "execution_count": null,
   "metadata": {},
   "outputs": [],
   "source": []
  }
 ],
 "metadata": {
  "kernelspec": {
   "display_name": "Python 3",
   "language": "python",
   "name": "python3"
  },
  "language_info": {
   "codemirror_mode": {
    "name": "ipython",
    "version": 3
   },
   "file_extension": ".py",
   "mimetype": "text/x-python",
   "name": "python",
   "nbconvert_exporter": "python",
   "pygments_lexer": "ipython3",
   "version": "3.9.2"
  }
 },
 "nbformat": 4,
 "nbformat_minor": 4
}
