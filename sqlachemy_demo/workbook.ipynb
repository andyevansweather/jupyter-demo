{
 "cells": [
  {
   "cell_type": "markdown",
   "source": [
    "# SQLAlchemy\r\n",
    "\r\n",
    "Here are the [docs](https://docs.sqlalchemy.org/en/14/tutorial/)"
   ],
   "metadata": {}
  },
  {
   "cell_type": "code",
   "execution_count": null,
   "source": [
    "! pip install psycopg2\r\n",
    "! pip install SQLAlchemy"
   ],
   "outputs": [],
   "metadata": {}
  },
  {
   "cell_type": "code",
   "execution_count": null,
   "source": [
    "import json\r\n",
    "import logging\r\n",
    "\r\n",
    "\r\n",
    "with open(\"credentials.json\", \"r\") as f:\r\n",
    "    creds = json.load(f)"
   ],
   "outputs": [],
   "metadata": {}
  },
  {
   "cell_type": "code",
   "execution_count": null,
   "source": [
    "from sqlalchemy import create_engine\r\n",
    "# engine = create_engine(\"sqlite+pysqlite:///:memory:\", echo=True, future=True)\r\n",
    "postgres_db_url = f\"postgresql+psycopg2://{creds['username']}:{creds['password']}@{creds['host']}/{creds['default-database']}\"\r\n",
    "engine = create_engine(postgres_db_url)\r\n"
   ],
   "outputs": [],
   "metadata": {}
  },
  {
   "cell_type": "code",
   "execution_count": null,
   "source": [
    "from sqlalchemy import text\r\n",
    "\r\n",
    "with engine.connect() as conn:\r\n",
    "    result = conn.execute(text(\"select 'hello world'\"))\r\n",
    "    print(result.all())"
   ],
   "outputs": [],
   "metadata": {}
  },
  {
   "cell_type": "markdown",
   "source": [
    "## Creating a table"
   ],
   "metadata": {}
  },
  {
   "cell_type": "code",
   "execution_count": null,
   "source": [
    "with engine.connect() as conn:\r\n",
    "    # My DB needs a bit of work done to it!\r\n",
    "    # conn.execute(text(\"DROP TABLE some_table\"))\r\n",
    "    conn.execute(text(\"CREATE TABLE some_table (x int, y int)\"))\r\n",
    "    conn.execute(\r\n",
    "        text(\"INSERT INTO some_table (x, y) VALUES (:x, :y)\"),\r\n",
    "        [{\"x\": 1, \"y\": 1}, {\"x\": 2, \"y\": 4}]\r\n",
    "    )\r\n",
    "    # conn.commit()"
   ],
   "outputs": [],
   "metadata": {}
  },
  {
   "cell_type": "code",
   "execution_count": null,
   "source": [
    "with engine.connect() as conn:\r\n",
    "    # See https://docs.sqlalchemy.org/en/14/core/connections.html#sqlalchemy.engine.ResultProxy\r\n",
    "    # for more information\r\n",
    "    results = conn.execute(text(\"SELECT * FROM some_table\"))\r\n",
    "    print(results.first())"
   ],
   "outputs": [],
   "metadata": {}
  },
  {
   "cell_type": "markdown",
   "source": [
    "# ORM - Object Relational Mapping"
   ],
   "metadata": {}
  },
  {
   "cell_type": "code",
   "execution_count": null,
   "source": [
    "from sqlalchemy.orm import registry\r\n",
    "from sqlalchemy import MetaData\r\n",
    "metadata_obj = MetaData()\r\n",
    "metadata_obj.clear()\r\n",
    "mapper_registry = registry()\r\n",
    "Base = mapper_registry.generate_base()"
   ],
   "outputs": [],
   "metadata": {}
  },
  {
   "cell_type": "code",
   "execution_count": null,
   "source": [
    "from sqlalchemy.orm import relationship\r\n",
    "from sqlalchemy import ForeignKey\r\n",
    "\r\n",
    "\r\n",
    "class User(Base): # see https://docs.sqlalchemy.org/en/14/tutorial/metadata.html#tutorial-orm-table-metadata for more info\r\n",
    "    __tablename__ = 'user_account'\r\n",
    "    id = Column(Integer, primary_key=True)\r\n",
    "    name = Column(String(30))\r\n",
    "    fullname = Column(String)\r\n",
    "\r\n",
    "    addresses = relationship(\"Address\", back_populates=\"user\")\r\n",
    "\r\n",
    "    def __repr__(self):\r\n",
    "        return f\"User(id={self.id!r}, name={self.name!r}, fullname={self.fullname!r})\"\r\n",
    "\r\n",
    "class Address(Base):\r\n",
    "    __tablename__ = 'address'\r\n",
    "\r\n",
    "    id = Column(Integer, primary_key=True)\r\n",
    "    email_address = Column(String, nullable=False)\r\n",
    "    user_id = Column(Integer, ForeignKey('user_account.id'))\r\n",
    "    user = relationship(\"User\", back_populates=\"addresses\")\r\n",
    "\r\n",
    "    def __repr__(self):\r\n",
    "        return f\"Address(id={self.id!r}, email_address={self.email_address!r})\""
   ],
   "outputs": [],
   "metadata": {}
  },
  {
   "cell_type": "code",
   "execution_count": null,
   "source": [
    "# Create the tables!\r\n",
    "Base.metadata.create_all(engine)"
   ],
   "outputs": [],
   "metadata": {}
  },
  {
   "cell_type": "code",
   "execution_count": null,
   "source": [
    "user_table.c.name"
   ],
   "outputs": [],
   "metadata": {}
  },
  {
   "cell_type": "code",
   "execution_count": null,
   "source": [
    "user_table.c.keys()"
   ],
   "outputs": [],
   "metadata": {}
  },
  {
   "cell_type": "markdown",
   "source": [
    "## Inserting data"
   ],
   "metadata": {}
  },
  {
   "cell_type": "code",
   "execution_count": null,
   "source": [
    "from sqlalchemy import insert\r\n",
    "stmt = insert(user_table).values(name='spongebob', fullname=\"Spongebob Squarepants\")\r\n",
    "# What is stmt?\r\n",
    "print(stmt)"
   ],
   "outputs": [],
   "metadata": {}
  },
  {
   "cell_type": "code",
   "execution_count": null,
   "source": [
    "from sqlalchemy.orm import sessionmaker\r\n",
    "Session = sessionmaker(bind = engine)\r\n",
    "session = Session() # See this link for more information https://www.tutorialspoint.com/sqlalchemy/sqlalchemy_orm_adding_objects.htm\r\n",
    "\r\n",
    "with engine.connect() as conn:\r\n",
    "    result = conn.execute(stmt)\r\n",
    "    session.commit()"
   ],
   "outputs": [],
   "metadata": {}
  },
  {
   "cell_type": "code",
   "execution_count": null,
   "source": [
    "with engine.connect() as conn:\r\n",
    "    # See https://docs.sqlalchemy.org/en/14/core/connections.html#sqlalchemy.engine.ResultProxy\r\n",
    "    # for more information\r\n",
    "    results = conn.execute(text(\"SELECT * FROM user_account\"))\r\n",
    "    print(results.first())"
   ],
   "outputs": [],
   "metadata": {}
  },
  {
   "cell_type": "code",
   "execution_count": null,
   "source": [
    "from sqlalchemy import select\r\n",
    "stmt = select(user_table)\r\n",
    "print(stmt)"
   ],
   "outputs": [],
   "metadata": {}
  },
  {
   "cell_type": "code",
   "execution_count": null,
   "source": [
    "with engine.connect() as conn:\r\n",
    "    # See https://docs.sqlalchemy.org/en/14/core/connections.html#sqlalchemy.engine.ResultProxy\r\n",
    "    # for more information\r\n",
    "    results = conn.execute(stmt)\r\n",
    "    print(results.first())"
   ],
   "outputs": [],
   "metadata": {}
  },
  {
   "cell_type": "code",
   "execution_count": null,
   "source": [
    "from sqlalchemy import select\r\n",
    "stmt = select(user_table).where(user_table.c.name == 'spongebob')\r\n",
    "print(stmt)"
   ],
   "outputs": [],
   "metadata": {}
  },
  {
   "cell_type": "code",
   "execution_count": null,
   "source": [
    "with engine.connect() as conn:\r\n",
    "    for row in conn.execute(stmt):\r\n",
    "        print(row)"
   ],
   "outputs": [],
   "metadata": {}
  },
  {
   "cell_type": "markdown",
   "source": [
    "## Cleanup tables"
   ],
   "metadata": {}
  },
  {
   "cell_type": "code",
   "execution_count": null,
   "source": [
    "from sqlalchemy import select\r\n",
    "\r\n",
    "Base.metadata.drop_all(engine)"
   ],
   "outputs": [],
   "metadata": {}
  },
  {
   "cell_type": "code",
   "execution_count": null,
   "source": [],
   "outputs": [],
   "metadata": {}
  }
 ],
 "metadata": {
  "orig_nbformat": 4,
  "language_info": {
   "name": "python",
   "version": "3.9.2",
   "mimetype": "text/x-python",
   "codemirror_mode": {
    "name": "ipython",
    "version": 3
   },
   "pygments_lexer": "ipython3",
   "nbconvert_exporter": "python",
   "file_extension": ".py"
  },
  "kernelspec": {
   "name": "python3",
   "display_name": "Python 3.9.2 64-bit ('demo': conda)"
  },
  "interpreter": {
   "hash": "b1c42115d4fcd207833c71e858bd2be4cf60996804d3c849c92f3a9ae11c02cc"
  }
 },
 "nbformat": 4,
 "nbformat_minor": 2
}