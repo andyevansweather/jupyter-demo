{
 "cells": [
  {
   "cell_type": "code",
   "execution_count": 1,
   "metadata": {},
   "outputs": [],
   "source": [
    "%load_ext sql"
   ]
  },
  {
   "cell_type": "code",
   "execution_count": 28,
   "metadata": {},
   "outputs": [],
   "source": [
    "import pandas as pd\n",
    "import numpy as np\n",
    "import xarray as xr\n",
    "import netCDF4\n",
    "from sklearn.model_selection  import train_test_split\n",
    "from sklearn.linear_model import LinearRegression\n",
    "from dateutil.parser import parse"
   ]
  },
  {
   "cell_type": "code",
   "execution_count": 44,
   "metadata": {},
   "outputs": [],
   "source": [
    "air_temps = xr.open_dataset('data/air_temperature_2021-04-29T12_00_00Z_108000.nc', engine='netcdf4')\n",
    "subset = air_temps.sel(longitude=slice(12.436523437499998, 14.084472656249998), latitude=slice(52.05924589011585, 52.9751081817353))\n",
    "df = subset.to_dataframe()\n",
    "msk = np.random.rand(len(df)) < 0.8\n",
    "df.pop('latitude_longitude')\n",
    "df.pop('forecast_period')\n",
    "df['forecast_reference_time'] = df['forecast_reference_time'].apply(str)\n",
    "df['forecast_reference_time'] = df['forecast_reference_time'].apply(parse)\n",
    "df['forecast_reference_time'] = df['forecast_reference_time'].values.astype(float)\n",
    "df['time'] = df['time'].apply(str)\n",
    "df['time'] = df['time'].apply(parse)\n",
    "df['time'] = df['time'].values.astype(float)\n",
    "train = df[msk]\n",
    "test = df[~msk]\n",
    "\n",
    "y_train = train.pop('air_temperature')\n",
    "y_test = test.pop('air_temperature')\n",
    "X_train = train\n",
    "X_test = test\n"
   ]
  },
  {
   "cell_type": "code",
   "execution_count": 45,
   "metadata": {},
   "outputs": [
    {
     "output_type": "execute_result",
     "data": {
      "text/plain": [
       "LinearRegression()"
      ]
     },
     "metadata": {},
     "execution_count": 45
    }
   ],
   "source": [
    "model = LinearRegression()\n",
    "model.fit(X_train, y_train)"
   ]
  },
  {
   "cell_type": "code",
   "execution_count": 50,
   "metadata": {},
   "outputs": [
    {
     "output_type": "stream",
     "name": "stdout",
     "text": [
      "Predicted temps are:\n[241.59616136 241.59616136 241.59616136 241.59616136 241.59616136]\nActual temps are:\n[276.875, 268.25, 262.0, 218.25, 218.625]\n"
     ]
    }
   ],
   "source": [
    "print('Predicted temps are:')\n",
    "print(model.predict(X_test.head()))\n",
    "print('Actual temps are:')\n",
    "print(list(y_test.head()))"
   ]
  },
  {
   "cell_type": "code",
   "execution_count": 51,
   "metadata": {},
   "outputs": [],
   "source": [
    "%sql sqlite://"
   ]
  },
  {
   "cell_type": "code",
   "execution_count": 52,
   "metadata": {},
   "outputs": [
    {
     "output_type": "stream",
     "name": "stdout",
     "text": [
      " * sqlite://\nDone.\n6 rows affected.\n"
     ]
    },
    {
     "output_type": "execute_result",
     "data": {
      "text/plain": [
       "[]"
      ]
     },
     "metadata": {},
     "execution_count": 52
    }
   ],
   "source": [
    "%%sql\n",
    "CREATE TABLE sales\n",
    "(\n",
    "    key       varchar(6),\n",
    "    ts        timestamp,\n",
    "    product   integer,\n",
    "    completed boolean,\n",
    "    price     float\n",
    ");\n",
    "INSERT INTO sales\n",
    "VALUES ('sale_1', '2019-11-08 00:00', 0, TRUE, 1.1),\n",
    "       ('sale_2', '2019-11-08 01:00', 0, FALSE, 1.2),\n",
    "       ('sale_3', '2019-11-08 01:00', 0, TRUE, 1.3),\n",
    "       ('sale_4', '2019-11-08 01:00', 1, FALSE, 1.4),\n",
    "       ('sale_5', '2019-11-08 02:00', 1, TRUE, 1.5),\n",
    "       ('sale_6', '2019-11-08 02:00', 1, TRUE, 1.5);"
   ]
  },
  {
   "cell_type": "code",
   "execution_count": 54,
   "metadata": {},
   "outputs": [
    {
     "output_type": "stream",
     "name": "stdout",
     "text": [
      " * sqlite://\nDone.\n"
     ]
    },
    {
     "output_type": "execute_result",
     "data": {
      "text/plain": [
       "[('sale_1', '2019-11-08 00:00', 0, 1, 1.1),\n",
       " ('sale_2', '2019-11-08 01:00', 0, 0, 1.2),\n",
       " ('sale_3', '2019-11-08 01:00', 0, 1, 1.3),\n",
       " ('sale_4', '2019-11-08 01:00', 1, 0, 1.4),\n",
       " ('sale_5', '2019-11-08 02:00', 1, 1, 1.5),\n",
       " ('sale_6', '2019-11-08 02:00', 1, 1, 1.5)]"
      ],
      "text/html": "<table>\n    <tr>\n        <th>key</th>\n        <th>ts</th>\n        <th>product</th>\n        <th>completed</th>\n        <th>price</th>\n    </tr>\n    <tr>\n        <td>sale_1</td>\n        <td>2019-11-08 00:00</td>\n        <td>0</td>\n        <td>1</td>\n        <td>1.1</td>\n    </tr>\n    <tr>\n        <td>sale_2</td>\n        <td>2019-11-08 01:00</td>\n        <td>0</td>\n        <td>0</td>\n        <td>1.2</td>\n    </tr>\n    <tr>\n        <td>sale_3</td>\n        <td>2019-11-08 01:00</td>\n        <td>0</td>\n        <td>1</td>\n        <td>1.3</td>\n    </tr>\n    <tr>\n        <td>sale_4</td>\n        <td>2019-11-08 01:00</td>\n        <td>1</td>\n        <td>0</td>\n        <td>1.4</td>\n    </tr>\n    <tr>\n        <td>sale_5</td>\n        <td>2019-11-08 02:00</td>\n        <td>1</td>\n        <td>1</td>\n        <td>1.5</td>\n    </tr>\n    <tr>\n        <td>sale_6</td>\n        <td>2019-11-08 02:00</td>\n        <td>1</td>\n        <td>1</td>\n        <td>1.5</td>\n    </tr>\n</table>"
     },
     "metadata": {},
     "execution_count": 54
    }
   ],
   "source": [
    "%%sql\n",
    "\n",
    "select * from sales;"
   ]
  },
  {
   "cell_type": "code",
   "execution_count": null,
   "metadata": {},
   "outputs": [],
   "source": []
  }
 ],
 "metadata": {
  "kernelspec": {
   "name": "python392jvsc74a57bd0b1c42115d4fcd207833c71e858bd2be4cf60996804d3c849c92f3a9ae11c02cc",
   "display_name": "Python 3.9.2 64-bit ('demo': conda)"
  },
  "language_info": {
   "codemirror_mode": {
    "name": "ipython",
    "version": 3
   },
   "file_extension": ".py",
   "mimetype": "text/x-python",
   "name": "python",
   "nbconvert_exporter": "python",
   "pygments_lexer": "ipython3",
   "version": "3.9.2"
  },
  "metadata": {
   "interpreter": {
    "hash": "b1c42115d4fcd207833c71e858bd2be4cf60996804d3c849c92f3a9ae11c02cc"
   }
  }
 },
 "nbformat": 4,
 "nbformat_minor": 2
}