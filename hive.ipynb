{
 "metadata": {
  "language_info": {
   "codemirror_mode": {
    "name": "ipython",
    "version": 3
   },
   "file_extension": ".py",
   "mimetype": "text/x-python",
   "name": "python",
   "nbconvert_exporter": "python",
   "pygments_lexer": "ipython3",
   "version": "3.9.2"
  },
  "orig_nbformat": 2,
  "kernelspec": {
   "name": "python392jvsc74a57bd0b1c42115d4fcd207833c71e858bd2be4cf60996804d3c849c92f3a9ae11c02cc",
   "display_name": "Python 3.9.2 64-bit ('demo': conda)"
  }
 },
 "nbformat": 4,
 "nbformat_minor": 2,
 "cells": [
  {
   "cell_type": "code",
   "execution_count": 1,
   "metadata": {},
   "outputs": [],
   "source": [
    "import behave"
   ]
  },
  {
   "cell_type": "code",
   "execution_count": 6,
   "metadata": {},
   "outputs": [
    {
     "output_type": "stream",
     "name": "stdout",
     "text": [
      "Feature: showing off behave # features/test.feature:1\n\n  Scenario: run a simple test        # features/test.feature:3\n    Given we have behave installed   # features/steps/tutorial.py:3\n££££££££££££££££££££££££££££££££££££££££££££££££\n    When we implement a test         # features/steps/tutorial.py:7\n    Then behave will test it for us! # features/steps/tutorial.py:11\n\n1 feature passed, 0 failed, 0 skipped\n1 scenario passed, 0 failed, 0 skipped\n3 steps passed, 0 failed, 0 skipped, 0 undefined\nTook 0m0.000s\n"
     ]
    }
   ],
   "source": [
    "!behave --no-capture --no-capture-stderr"
   ]
  },
  {
   "cell_type": "code",
   "execution_count": null,
   "metadata": {},
   "outputs": [],
   "source": []
  }
 ]
}